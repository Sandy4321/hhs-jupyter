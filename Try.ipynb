{
 "cells": [
  {
   "cell_type": "code",
   "execution_count": 379,
   "metadata": {
    "collapsed": true
   },
   "outputs": [],
   "source": [
    "from ipyleaflet import (\n",
    "    Map,\n",
    "    Polyline, Polygon, Rectangle, Circle, CircleMarker,\n",
    "    GeoJSON\n",
    ")\n",
    "\n",
    "from ipywidgets import IntSlider, jslink"
   ]
  },
  {
   "cell_type": "code",
   "execution_count": 380,
   "metadata": {
    "collapsed": false
   },
   "outputs": [],
   "source": [
    "import matplotlib as mpl\n",
    "import matplotlib.cm\n",
    "import matplotlib.colors\n",
    "import numpy as np\n",
    "from math import floor"
   ]
  },
  {
   "cell_type": "code",
   "execution_count": 381,
   "metadata": {
    "collapsed": true
   },
   "outputs": [],
   "source": [
    "import json\n",
    "import os"
   ]
  },
  {
   "cell_type": "code",
   "execution_count": 382,
   "metadata": {
    "collapsed": true
   },
   "outputs": [],
   "source": [
    "with open('test_fraud.json') as f:\n",
    "    data = json.load(f)\n",
    "\n",
    "zip_codes = data['zip_codes']\n",
    "max_fraud = float(data['max_fraud_pct']) / 100\n",
    "n_todraw = len(data['result'])"
   ]
  },
  {
   "cell_type": "code",
   "execution_count": 383,
   "metadata": {
    "collapsed": true
   },
   "outputs": [],
   "source": [
    "center = [37.8, -96.9]\n",
    "zoom = 4\n",
    "\n",
    "m = Map(center=center, zoom=zoom)\n",
    "\n",
    "n_colors = 10"
   ]
  },
  {
   "cell_type": "code",
   "execution_count": 384,
   "metadata": {
    "collapsed": true
   },
   "outputs": [],
   "source": [
    "def make_colors(colormap=mpl.cm.PuOr):\n",
    "    data = np.linspace(0.0,1.0,n_colors)\n",
    "    c = [mpl.colors.rgb2hex(d[0:3]) for d in colormap(data)]\n",
    "    return c"
   ]
  },
  {
   "cell_type": "code",
   "execution_count": 385,
   "metadata": {
    "collapsed": false
   },
   "outputs": [],
   "source": [
    "colors = make_colors()"
   ]
  },
  {
   "cell_type": "code",
   "execution_count": 386,
   "metadata": {
    "collapsed": false
   },
   "outputs": [],
   "source": [
    "to_plot = {}\n",
    "\n",
    "for r in data['result']:\n",
    "    fraud_pct = float(r['fraud_pct']) / 100\n",
    "    color = colors[int(floor((float(n_todraw) / n_colors) * (float(fraud_pct) / float(max_fraud))))]\n",
    "    \n",
    "    r['properties'] = {'style': {'color':color, 'weight': 1, 'fillColor':color, 'fillOpacity':0.5}, 'fraud_pct': fraud_pct}\n",
    "    \n",
    "    to_plot[r[\"zip_code\"]] = r"
   ]
  },
  {
   "cell_type": "code",
   "execution_count": 423,
   "metadata": {
    "collapsed": false
   },
   "outputs": [],
   "source": [
    "plot_list = []"
   ]
  },
  {
   "cell_type": "code",
   "execution_count": 424,
   "metadata": {
    "collapsed": false
   },
   "outputs": [],
   "source": [
    "for f in os.listdir(\"./json-zips/zip_codes_for_the_usa\"):\n",
    "    with open(os.path.join(\"./json-zips/zip_codes_for_the_usa\", f)) as fdata:\n",
    "        area = json.load(fdata)\n",
    "        map_out(area)"
   ]
  },
  {
   "cell_type": "code",
   "execution_count": 425,
   "metadata": {
    "collapsed": false
   },
   "outputs": [],
   "source": [
    "def map_out(area):\n",
    "    for feature in area['features']:\n",
    "        zip_code = zip_fix(feature['properties']['ZIP'])\n",
    "        if zip_code in zip_codes:\n",
    "            draw_data(zip_code, feature)"
   ]
  },
  {
   "cell_type": "code",
   "execution_count": 426,
   "metadata": {
    "collapsed": true
   },
   "outputs": [],
   "source": [
    "def zip_fix(zip_code):\n",
    "    zip_code = str(zip_code)\n",
    "    while len(zip_code) < 5:\n",
    "        zip_code = \"0\" + zip_code\n",
    "    return zip_code"
   ]
  },
  {
   "cell_type": "code",
   "execution_count": 427,
   "metadata": {
    "collapsed": true
   },
   "outputs": [],
   "source": [
    "def draw_data(zip_code, feature):\n",
    "    for k, v in to_plot[zip_code]['properties'].iteritems():\n",
    "        feature['properties'][k] = v\n",
    "    plot_list.append(feature)"
   ]
  },
  {
   "cell_type": "code",
   "execution_count": 428,
   "metadata": {
    "collapsed": false
   },
   "outputs": [],
   "source": [
    "data['features'] = plot_list"
   ]
  },
  {
   "cell_type": "code",
   "execution_count": 430,
   "metadata": {
    "collapsed": true
   },
   "outputs": [],
   "source": [
    "g = GeoJSON(data=data)\n",
    "m.add_layer(g)"
   ]
  },
  {
   "cell_type": "code",
   "execution_count": 431,
   "metadata": {
    "collapsed": true
   },
   "outputs": [],
   "source": [
    "m"
   ]
  },
  {
   "cell_type": "code",
   "execution_count": 432,
   "metadata": {
    "collapsed": true
   },
   "outputs": [],
   "source": [
    "zoom_slider = IntSlider(description='Zoom', min=2, max=15, value=zoom)\n",
    "jslink((zoom_slider, 'value'), (m, 'zoom'))\n",
    "zoom_slider"
   ]
  },
  {
   "cell_type": "code",
   "execution_count": null,
   "metadata": {
    "collapsed": true
   },
   "outputs": [],
   "source": []
  }
 ],
 "metadata": {
  "kernelspec": {
   "display_name": "Python 2",
   "language": "python",
   "name": "python2"
  },
  "language_info": {
   "codemirror_mode": {
    "name": "ipython",
    "version": 2
   },
   "file_extension": ".py",
   "mimetype": "text/x-python",
   "name": "python",
   "nbconvert_exporter": "python",
   "pygments_lexer": "ipython2",
   "version": "2.7.11"
  },
  "widgets": {
   "state": {
    "02a6d493b749481bb6f36b9d2c239418": {
     "views": []
    },
    "04ef55d7b26f4100863487c0ce43d5a4": {
     "views": []
    },
    "06bb9bf1744f47969f5d972a188ee384": {
     "views": []
    },
    "0b4d33a25e7640ebaff05955f8e5655e": {
     "views": []
    },
    "0cb76cf87da240c8946704a3480a8c3b": {
     "views": []
    },
    "0dca293e36284ac59fa58951b37f30bc": {
     "views": []
    },
    "0e8e861786c84736ae12a76a5e451c54": {
     "views": []
    },
    "0ff6841467ac4e92818ad7034fee0082": {
     "views": []
    },
    "11e96047404a44699486c01f0bdfe781": {
     "views": []
    },
    "13cd327e0af046e9ad89827e5b38789a": {
     "views": []
    },
    "1475b48e279a4ee1b24d1ce40a531df1": {
     "views": []
    },
    "1baed34e787f42fe9d1fc8bcba0255d9": {
     "views": []
    },
    "2400eb59d5d44592ac900126f0875409": {
     "views": []
    },
    "24ed4aaaf7314d02a2e3c70ee6f97750": {
     "views": []
    },
    "2a01bae32a8546f8a21a76d6e888dd9e": {
     "views": []
    },
    "2ad727cf221e4f3097ee2724143d2e18": {
     "views": []
    },
    "2af5b98c881749e480af2dd2a384e814": {
     "views": []
    },
    "2f210bb71ee844df8de0e8fe4b6c06c6": {
     "views": []
    },
    "364f79c1274b41c6bffd297a3a8c4c2e": {
     "views": []
    },
    "38755d68868d418abec79fa2c9b33c9f": {
     "views": []
    },
    "3aa00a66c8f7465492ac8ed0441b10da": {
     "views": []
    },
    "3b50332e47d64c62a6b5a67c916a4ba6": {
     "views": []
    },
    "402c825ae1f140cd9b3839f992979803": {
     "views": []
    },
    "4523d7782933490e93be75b96d8bc79f": {
     "views": []
    },
    "45f5617b981e40a4a938d1051517f4c8": {
     "views": []
    },
    "4b23ae5b7850483dadcf45fa398b569d": {
     "views": []
    },
    "4d87ea74571f456da8a55e227c7e4033": {
     "views": []
    },
    "4efdc2bb41864c1197304a9dc72fd78b": {
     "views": []
    },
    "5053caca428a4f15a9f0e934e5dce727": {
     "views": []
    },
    "5198f24744c346efa2ec612d3c38d61b": {
     "views": []
    },
    "529ba4e1ff244e99b8fbdf80d9824f13": {
     "views": []
    },
    "574226dbcf284922a0fbdd9be4c3a930": {
     "views": []
    },
    "59133e39ff3a4fe2805f3e1abf8d6246": {
     "views": []
    },
    "5df335f89ddd4ca19bfd2121e0a570b4": {
     "views": []
    },
    "62c9798c720b4a64bd0c8ac0ca7ee1f2": {
     "views": []
    },
    "65bf1c14dd494ce79c17ae401e135ff3": {
     "views": []
    },
    "67c189b021ed4143b7b1228b4fe69cf3": {
     "views": []
    },
    "68013d1d62144100a1cc91ea39b40eec": {
     "views": []
    },
    "6a943918d9cf4c7c9e5534f15633b9de": {
     "views": []
    },
    "71989d664d5c46c689e449b03b619d41": {
     "views": []
    },
    "763b0bee9b1240f3a48f25f319a67953": {
     "views": []
    },
    "7cfa3b4d2949457b84d225816230a397": {
     "views": []
    },
    "7f3e0712f47344eaaaf6258b51807d4b": {
     "views": []
    },
    "7f4d681371aa41cd8b8998057db823b9": {
     "views": []
    },
    "8c9e86748175487bac7a52d767452623": {
     "views": []
    },
    "8e25982d1a9e4ba2a4c6e6a1a46566e8": {
     "views": [
      {
       "cell": {
        "cell_type": "code",
        "execution_count": 432,
        "metadata": {
         "collapsed": true,
         "trusted": true
        },
        "outputs": [],
        "source": "zoom_slider = IntSlider(description='Zoom', min=2, max=15, value=zoom)\njslink((zoom_slider, 'value'), (m, 'zoom'))\nzoom_slider"
       },
       "cell_index": 18,
       "root": true
      }
     ]
    },
    "8f82586b1013461386bd14c77142804b": {
     "views": []
    },
    "9088c5b0b7fe43e683f0d3d124adc5ec": {
     "views": []
    },
    "93ede3bf343a41888e733b941cc63bd6": {
     "views": []
    },
    "94367487a78d4dbd9f9edde7c710cc22": {
     "views": []
    },
    "94f24060ddfe4e219dcc68e34c731102": {
     "views": []
    },
    "95e76abaf85b4fa08d80cc0e34e7e7be": {
     "views": []
    },
    "9866f618b44944449b3b9c9bef9614cd": {
     "views": []
    },
    "9a15108f001d4b2c90894d4573f318d6": {
     "views": []
    },
    "9dc158558d6e45f69a7afac2dffed801": {
     "views": []
    },
    "a0b6d7e611324b60b61414c7130df594": {
     "views": []
    },
    "a144df9cb9694fb586dd3c86e0081ae3": {
     "views": []
    },
    "a33e7de9fab94e0d8e3a58c1c0dfbe0e": {
     "views": []
    },
    "a3e0fcdadfed4f4c90519c714e69fde6": {
     "views": []
    },
    "a5ae57b4e207433c8ac9888270de3809": {
     "views": []
    },
    "abfe997446e84cef983280f8216f94cd": {
     "views": []
    },
    "ae9e01800a1a4c99959d1b9092d5dc0c": {
     "views": []
    },
    "b1bd36875066416a8a7dee53cee1c7ac": {
     "views": []
    },
    "b476df081a8e46d99947129ca60f3703": {
     "views": []
    },
    "b7a199f9a1bd409984145a4293d9e604": {
     "views": []
    },
    "bd4621c01b4241dea51b56333086f70c": {
     "views": []
    },
    "be0175635c354b5eaed0c7a7d0a3c234": {
     "views": []
    },
    "be63bedcd81c4b589aaae9aed6679370": {
     "views": []
    },
    "be68b497ebce4b3da581564499a5eeb6": {
     "views": []
    },
    "bfa4583417b740df9b9853ae32489e29": {
     "views": []
    },
    "c26d253b693d4d88985299254e014e31": {
     "views": []
    },
    "c2b3b94057a44eb282c34e730c8c335b": {
     "views": []
    },
    "c7e5ad8a81e14bab95067706265af27b": {
     "views": []
    },
    "c88156ad67eb4ef786d60b560670679c": {
     "views": []
    },
    "cf1d885ab8a1441299ef3fb001ec4228": {
     "views": []
    },
    "cf756cc8ceca49eabfaa453edb5e3a82": {
     "views": []
    },
    "d22904e6ae7048cda26ab7724ef7c678": {
     "views": []
    },
    "d3b5e670a7714b14a676316e1edfbe5a": {
     "views": []
    },
    "d6f259c285c44f2aba3dbcbbfb1712fa": {
     "views": []
    },
    "d81a0f03e3b04ad3af5ee3c4ec47ed06": {
     "views": []
    },
    "d89ba98d4db04c62975b6564607698d2": {
     "views": []
    },
    "d8fc40213aae4e28b83c3ee38c5fcc58": {
     "views": []
    },
    "da8efc66caba43fcb48d774362f80d46": {
     "views": []
    },
    "dc2cf9f400044f1c82a2f074b7fc2297": {
     "views": []
    },
    "e1b64ce4c25b4be2a34e72850fc85557": {
     "views": []
    },
    "e403a240016c497f97881773ada75f12": {
     "views": []
    },
    "e4eeb5d55f3248e6b106f4f9ab8de546": {
     "views": [
      {
       "cell": {
        "cell_type": "code",
        "execution_count": 431,
        "metadata": {
         "collapsed": true,
         "trusted": true
        },
        "outputs": [],
        "source": "m"
       },
       "cell_index": 19,
       "root": true
      }
     ]
    },
    "e65350c3ae3645eca95f667b5cec8565": {
     "views": []
    },
    "e71d593bced44030ac4f3cfa1d592564": {
     "views": []
    },
    "e7a9f473373641119ab438154a3ebac8": {
     "views": []
    },
    "ec21452d1e4541878885b1b4136126fe": {
     "views": []
    },
    "f087382104de41a6aedc4dda3bd29efe": {
     "views": []
    },
    "f111a6c4be8945b4a38074be403b27b8": {
     "views": []
    },
    "f5a87c37bd6449c9954dbc69455ee79a": {
     "views": []
    },
    "f7417c1abd43462fb23b096c2d207c2e": {
     "views": []
    },
    "f7a8fdd4093f498291c3d00cdd59b8ff": {
     "views": []
    },
    "f93206940e89436aa848c404d709c766": {
     "views": []
    },
    "fa79d320de5744609ad434f363288005": {
     "views": []
    },
    "fbd71c724db44448b515f04884790034": {
     "views": []
    },
    "fdc6beebd48d4533b4becef1e5a3e9e1": {
     "views": []
    }
   },
   "version": "1.0.0"
  }
 },
 "nbformat": 4,
 "nbformat_minor": 0
}
